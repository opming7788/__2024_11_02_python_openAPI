{
 "cells": [
  {
   "cell_type": "code",
   "execution_count": 3,
   "metadata": {},
   "outputs": [
    {
     "data": {
      "text/plain": [
       "[1, 3, 5, 7, 9]"
      ]
     },
     "execution_count": 3,
     "metadata": {},
     "output_type": "execute_result"
    }
   ],
   "source": [
    "list(range(1,10,2))"
   ]
  },
  {
   "cell_type": "code",
   "execution_count": 1,
   "metadata": {},
   "outputs": [],
   "source": [
    "n=0\n",
    "for i in range(5):\n",
    "    n+=i"
   ]
  },
  {
   "cell_type": "code",
   "execution_count": 2,
   "metadata": {},
   "outputs": [
    {
     "name": "stdout",
     "output_type": "stream",
     "text": [
      "5\n",
      "請輸入整數\n",
      "請輸入整數\n",
      "請輸入整數\n",
      "請輸入整數\n",
      "10\n"
     ]
    }
   ],
   "source": [
    "i=0\n",
    "\n",
    "while True:\n",
    "    try:\n",
    "        i+=int(input(\"請輸入數值\"))\n",
    "        again=input(\"繼續玩?(y/n)\")\n",
    "        \n",
    "        if again=='n':\n",
    "            break            \n",
    "    except Exception:\n",
    "        print(\"請輸入整數\")\n",
    "        continue\n",
    "    print(i)"
   ]
  },
  {
   "cell_type": "code",
   "execution_count": 6,
   "metadata": {},
   "outputs": [
    {
     "name": "stdout",
     "output_type": "stream",
     "text": [
      "===========猜數字遊戲===========\n",
      "86\n",
      "你已經猜了1次，請猜大一點\n",
      "你已經猜了2次，請猜大一點\n",
      "你已經猜了3次，請猜大一點\n",
      "你已經猜了4次，請猜小一點\n",
      "你已經猜了5次，請猜小一點\n",
      "你已經猜了6次，請猜大一點\n",
      "你已經猜了7次，請猜小一點\n",
      "猜中了\n",
      "遊戲結束\n"
     ]
    }
   ],
   "source": [
    "import random\n",
    "min=1\n",
    "max=100\n",
    "\n",
    "while True:\n",
    "    print(\"===========猜數字遊戲===========\")\n",
    "    target=random.randint(1,100)\n",
    "    print(target)\n",
    "    guessCount=0\n",
    "    while True:\n",
    "        try:\n",
    "            myguess=int(input(f\"請在{min}~{max}內猜一個正整數:\"))\n",
    "            if myguess<0 or myguess>100:\n",
    "                continue\n",
    "        except Exception:\n",
    "            print(\"請輸入正整數\")\n",
    "            continue\n",
    "        else:\n",
    "            if myguess<target:\n",
    "                guessCount+=1\n",
    "                min=myguess\n",
    "                print(f\"你已經猜了{guessCount}次，請猜大一點\")\n",
    "            elif myguess>target:\n",
    "                guessCount+=1\n",
    "                max=myguess\n",
    "                print(f\"你已經猜了{guessCount}次，請猜小一點\")\n",
    "            else:\n",
    "                print(\"猜中了\")\n",
    "                break\n",
    "    \n",
    "    myinput=input(\"要繼續玩嗎?(y/n)\")\n",
    "    while myinput!='y' and myinput!='n':\n",
    "        myinput=input(\"要繼續玩嗎?(y/n)\")\n",
    "    if myinput=='n':\n",
    "        break\n",
    "print(\"遊戲結束\")"
   ]
  },
  {
   "cell_type": "code",
   "execution_count": 20,
   "metadata": {},
   "outputs": [
    {
     "name": "stdout",
     "output_type": "stream",
     "text": [
      "[1 2]\n",
      "[3 4]\n",
      "[3 0]\n",
      "[0 5]\n",
      "[[ 3 10]\n",
      " [ 9 20]]\n"
     ]
    }
   ],
   "source": [
    "import numpy as np\n",
    "x=np.array([1,2,3])\n",
    "y=np.array([2,4,6])\n",
    "a=np.array([[1,2],[3,4]])\n",
    "b=np.array([[3,0],[0,5]])\n",
    "c = np.vstack((a, b))\n",
    "for row in c:\n",
    "    print(row)\n",
    "\n",
    "print(np.dot(a,b))"
   ]
  },
  {
   "cell_type": "code",
   "execution_count": 26,
   "metadata": {},
   "outputs": [
    {
     "data": {
      "text/plain": [
       "5.0"
      ]
     },
     "execution_count": 26,
     "metadata": {},
     "output_type": "execute_result"
    }
   ],
   "source": [
    "import math\n",
    "def theorem(side:float,another_side:float)->float:\n",
    "    return math.sqrt(side**2+another_side**2)\n",
    "theorem(3,4)"
   ]
  },
  {
   "cell_type": "code",
   "execution_count": 4,
   "metadata": {},
   "outputs": [
    {
     "name": "stdout",
     "output_type": "stream",
     "text": [
      "酒類:白酒\n",
      "點心:蛋糕\n",
      "蛋糕:牛排\n",
      "====================\n",
      "酒類:蛋糕\n",
      "點心:白酒\n",
      "蛋糕:牛排\n",
      "====================\n",
      "酒類:白酒\n",
      "點心:蛋糕\n",
      "蛋糕:牛排\n",
      "====================\n",
      "酒類:白酒\n",
      "點心:fucker\n",
      "蛋糕:牛排\n"
     ]
    }
   ],
   "source": [
    "def menu(wine:str,entree:str,desert:str=\"fucker\"):\n",
    "    print(f\"酒類:{wine}\")\n",
    "    print(f\"點心:{desert}\")\n",
    "    print(f\"蛋糕:{entree}\")\n",
    "\n",
    "menu(\"白酒\",\"牛排\",\"蛋糕\")\n",
    "print(\"====================\")\n",
    "menu(desert=\"白酒\",entree=\"牛排\",wine=\"蛋糕\")\n",
    "print(\"====================\")\n",
    "menu(\"白酒\",entree=\"牛排\",desert=\"蛋糕\")\n",
    "print(\"====================\")\n",
    "menu(\"白酒\",entree=\"牛排\")\n",
    "\n"
   ]
  },
  {
   "cell_type": "code",
   "execution_count": 5,
   "metadata": {},
   "outputs": [
    {
     "name": "stdout",
     "output_type": "stream",
     "text": [
      "()\n",
      "(1, 2, 3, 'f', 'd', 'w')\n"
     ]
    }
   ],
   "source": [
    "def print_args(*args):\n",
    "    print(args)\n",
    "\n",
    "print_args()\n",
    "print_args(1,2,3,'f','d','w')"
   ]
  },
  {
   "cell_type": "code",
   "execution_count": 32,
   "metadata": {},
   "outputs": [
    {
     "name": "stdout",
     "output_type": "stream",
     "text": [
      "{'one': 1, 'two': 2, 'three': 3}\n",
      "{}\n"
     ]
    }
   ],
   "source": [
    "def print_kwargs(**kwargs):\n",
    "    print(kwargs)\n",
    "\n",
    "print_kwargs(one=1,two=2,three=3)\n",
    "print_kwargs()"
   ]
  },
  {
   "cell_type": "code",
   "execution_count": 33,
   "metadata": {},
   "outputs": [
    {
     "data": {
      "text/plain": [
       "19"
      ]
     },
     "execution_count": 33,
     "metadata": {},
     "output_type": "execute_result"
    }
   ],
   "source": [
    "from typing import Callable\n",
    "myfunction =Callable[[int,int],int]\n",
    "def add(a:int,b:int)->int:\n",
    "    return a+b\n",
    "myfuc:myfunction=add\n",
    "myfuc(9,10)"
   ]
  },
  {
   "cell_type": "code",
   "execution_count": null,
   "metadata": {},
   "outputs": [],
   "source": [
    "def decorator_func(original_func):\n",
    "    def wrap_func():\n",
    "        print(\"裝飾函數第一行\")\n",
    "        original_func()\n",
    "        print(\"裝飾函數第二行\")\n",
    "    return wrap_func\n",
    "\n"
   ]
  }
 ],
 "metadata": {
  "kernelspec": {
   "display_name": "base",
   "language": "python",
   "name": "python3"
  },
  "language_info": {
   "codemirror_mode": {
    "name": "ipython",
    "version": 3
   },
   "file_extension": ".py",
   "mimetype": "text/x-python",
   "name": "python",
   "nbconvert_exporter": "python",
   "pygments_lexer": "ipython3",
   "version": "3.12.4"
  }
 },
 "nbformat": 4,
 "nbformat_minor": 2
}
