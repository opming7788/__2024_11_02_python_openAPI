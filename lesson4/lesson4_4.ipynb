{
 "cells": [
  {
   "cell_type": "code",
   "execution_count": 37,
   "metadata": {},
   "outputs": [],
   "source": [
    "class person:\n",
    "    def __init__(self,name:str,age=20):\n",
    "        self.name=name #attribute\n",
    "        self.age=age\n",
    "    \n",
    "    def echo(self):\n",
    "        print(f\"我的名字是{self.name}\")\n",
    "        print(f\"我的年齡是{self.age}\")"
   ]
  },
  {
   "cell_type": "code",
   "execution_count": 67,
   "metadata": {},
   "outputs": [],
   "source": [
    "class Student(person):\n",
    "    def __init__(self,name,age,score:int):\n",
    "        super().__init__(name=name,age=age)\n",
    "        self.__score=score\n",
    "    \n",
    "    @property\n",
    "    def score(self)->int:\n",
    "        return self.__score\n",
    "\n",
    "    def echo(self):\n",
    "        super().echo()\n",
    "        # print(f\"我的名字是{self.name}\")\n",
    "        # print(f\"我的年齡是{self.age}\")\n",
    "        print(f\"我的分數是{self.score}\")"
   ]
  },
  {
   "cell_type": "code",
   "execution_count": null,
   "metadata": {},
   "outputs": [
    {
     "name": "stdout",
     "output_type": "stream",
     "text": [
      "我的名字是小王\n",
      "我的年齡是38\n",
      "我的分數是245\n",
      "我的名字是小王\n",
      "我的年齡是38\n",
      "我的分數是245\n"
     ]
    }
   ],
   "source": [
    "s1:Student=Student(\"小王\",38,245)\n",
    "s1.echo()\n",
    "s1.__score=300 #沒用\n",
    "s1.echo()\n"
   ]
  },
  {
   "cell_type": "code",
   "execution_count": 11,
   "metadata": {},
   "outputs": [
    {
     "name": "stdout",
     "output_type": "stream",
     "text": [
      "B speaks\n"
     ]
    }
   ],
   "source": [
    "class A:\n",
    "    def speak(self):\n",
    "        print(\"A speaks\")\n",
    "\n",
    "class B(A):\n",
    "    def speak(self):\n",
    "        print(\"B speaks\")\n",
    "        super().__init__()\n",
    "\n",
    "b = B()\n",
    "b.speak()\n",
    "\n"
   ]
  }
 ],
 "metadata": {
  "kernelspec": {
   "display_name": "base",
   "language": "python",
   "name": "python3"
  },
  "language_info": {
   "codemirror_mode": {
    "name": "ipython",
    "version": 3
   },
   "file_extension": ".py",
   "mimetype": "text/x-python",
   "name": "python",
   "nbconvert_exporter": "python",
   "pygments_lexer": "ipython3",
   "version": "3.12.4"
  }
 },
 "nbformat": 4,
 "nbformat_minor": 2
}
