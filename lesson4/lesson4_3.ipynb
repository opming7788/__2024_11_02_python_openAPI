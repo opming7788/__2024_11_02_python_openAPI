{
 "cells": [
  {
   "cell_type": "code",
   "execution_count": null,
   "metadata": {},
   "outputs": [],
   "source": [
    "class person:\n",
    "    def __init__(self,name:str,age=20):\n",
    "        self.name=name #attribute\n",
    "        self.age=age\n",
    "    \n",
    "    def echo(self):\n",
    "        print(f\"我的名字是{self.name}\")\n",
    "        print(f\"我的年齡是{self.age}\")\n",
    "\n",
    "\n"
   ]
  },
  {
   "cell_type": "code",
   "execution_count": 23,
   "metadata": {},
   "outputs": [
    {
     "name": "stdout",
     "output_type": "stream",
     "text": [
      "jimmy 32\n",
      "ammy 45\n",
      "我的名字是jimmy\n",
      "我的年齡是32\n",
      "我的名字是ammy\n",
      "我的年齡是45\n"
     ]
    }
   ],
   "source": [
    "p1=person(\"jimmy\",32)\n",
    "p2=person(age=45,name=\"ammy\")\n",
    "print(p1.name,p1.age)\n",
    "print(p2.name,p2.age)\n",
    "p1.echo()\n",
    "p2.echo()"
   ]
  }
 ],
 "metadata": {
  "kernelspec": {
   "display_name": "base",
   "language": "python",
   "name": "python3"
  },
  "language_info": {
   "codemirror_mode": {
    "name": "ipython",
    "version": 3
   },
   "file_extension": ".py",
   "mimetype": "text/x-python",
   "name": "python",
   "nbconvert_exporter": "python",
   "pygments_lexer": "ipython3",
   "version": "3.12.4"
  }
 },
 "nbformat": 4,
 "nbformat_minor": 2
}
