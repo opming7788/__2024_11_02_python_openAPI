{
 "cells": [
  {
   "cell_type": "code",
   "execution_count": 2,
   "metadata": {},
   "outputs": [
    {
     "data": {
      "text/plain": [
       "([1, 2, 3, 4, 5, 6, 7, 8, 9], list)"
      ]
     },
     "execution_count": 2,
     "metadata": {},
     "output_type": "execute_result"
    }
   ],
   "source": [
    "numbers:list=list(range(1,10))\n",
    "numbers,type(numbers)\n"
   ]
  },
  {
   "cell_type": "code",
   "execution_count": 6,
   "metadata": {},
   "outputs": [
    {
     "data": {
      "text/plain": [
       "[5, 6, 7, 8, 9, 10, 11, 12, 13, 14]"
      ]
     },
     "execution_count": 6,
     "metadata": {},
     "output_type": "execute_result"
    }
   ],
   "source": [
    "num2=list(range(5,15))\n",
    "num2"
   ]
  },
  {
   "cell_type": "code",
   "execution_count": 7,
   "metadata": {},
   "outputs": [
    {
     "data": {
      "text/plain": [
       "[(1, 5), (2, 6), (3, 7), (4, 8), (5, 9), (6, 10), (7, 11), (8, 12), (9, 13)]"
      ]
     },
     "execution_count": 7,
     "metadata": {},
     "output_type": "execute_result"
    }
   ],
   "source": [
    "[(a,b) for a, b in zip(numbers,num2)]"
   ]
  },
  {
   "cell_type": "code",
   "execution_count": 11,
   "metadata": {},
   "outputs": [
    {
     "data": {
      "text/plain": [
       "[14, 13, 12, 11, 10, 9, 8, 7, 6, 5]"
      ]
     },
     "execution_count": 11,
     "metadata": {},
     "output_type": "execute_result"
    }
   ],
   "source": [
    "sorted(num2,reverse=True)"
   ]
  },
  {
   "cell_type": "code",
   "execution_count": null,
   "metadata": {},
   "outputs": [
    {
     "data": {
      "text/plain": [
       "[1.5, 2, 3, 6, 7, 41, 9]"
      ]
     },
     "execution_count": 14,
     "metadata": {},
     "output_type": "execute_result"
    }
   ],
   "source": [
    "numbers:list[int]=[1,2,3,6,7,41,9]\n",
    "numbers"
   ]
  },
  {
   "cell_type": "code",
   "execution_count": 36,
   "metadata": {},
   "outputs": [
    {
     "name": "stdout",
     "output_type": "stream",
     "text": [
      "================================\n",
      "itemName:apple itemAge:35\n",
      "================================\n",
      "itemName:ammy itemAge:26\n",
      "================================\n",
      "itemName:jerry itemAge:20\n",
      "[<__main__.item object at 0x7fc62ce4ede0>, <__main__.item object at 0x7fc62c57faa0>, <__main__.item object at 0x7fc62c57dee0>]\n",
      "[<__main__.item object at 0x7fc62c57faa0>, <__main__.item object at 0x7fc62c57dee0>, <__main__.item object at 0x7fc62ce4ede0>]\n",
      "5\n",
      "5\n"
     ]
    }
   ],
   "source": [
    "class item:\n",
    "    def __init__(self,name:str,age:int) -> None:\n",
    "        self.name=name\n",
    "        self.age=age\n",
    "\n",
    "items:list[item]=[item(\"jerry\",20),item(\"apple\",35),item(\"ammy\",26)]\n",
    "\n",
    "# def abc(x:item)->int:\n",
    "#     return x.age\n",
    "\n",
    "newitems=sorted(items,key=lambda x:x.age,reverse=True)\n",
    "for item in newitems:\n",
    "    print(\"================================\")\n",
    "    print(f\"itemName:{item.name} \",end=\"\")\n",
    "    print(f\"itemAge:{item.age}\")\n",
    "newitems\n",
    "#newitems和items兩個list記憶體不同，但內部元素是相同的(雖然順序不同因為sorted排序過)\n",
    "print(items)\n",
    "print(newitems)\n",
    "\n",
    "newitems[0].age=5\n",
    "print(newitems[0].age)\n",
    "print(items[1].age)\n",
    "    \n",
    "\n",
    "\n",
    "\n"
   ]
  },
  {
   "cell_type": "code",
   "execution_count": 40,
   "metadata": {},
   "outputs": [
    {
     "data": {
      "text/plain": [
       "[{'name': 'banana', 'age': 10},\n",
       " {'name': 'apple', 'age': 25},\n",
       " {'name': 'pineApple', 'age': 45}]"
      ]
     },
     "execution_count": 40,
     "metadata": {},
     "output_type": "execute_result"
    }
   ],
   "source": [
    "items:list[dict]=[{\"name\":\"apple\",\"age\":25},{\"name\":\"banana\",\"age\":10},{\"name\":\"pineApple\",\"age\":45}]\n",
    "\n",
    "# items[0][\"name\"],items[1][\"age\"]\n",
    "sorted(items,key=lambda x:x[\"age\"])\n",
    "# items"
   ]
  },
  {
   "cell_type": "code",
   "execution_count": null,
   "metadata": {},
   "outputs": [
    {
     "data": {
      "text/plain": [
       "('robot', 35, 180, 50)"
      ]
     },
     "execution_count": 43,
     "metadata": {},
     "output_type": "execute_result"
    }
   ],
   "source": [
    "(name,age,height,weight)=\"robot\",35,180,50\n",
    "key\n",
    "name,age,height,weight"
   ]
  },
  {
   "cell_type": "code",
   "execution_count": 50,
   "metadata": {},
   "outputs": [
    {
     "name": "stdout",
     "output_type": "stream",
     "text": [
      "name\n",
      "price\n",
      "================================\n",
      "jimmy\n",
      "25\n",
      "================================\n",
      "name jimmy\n",
      "price 25\n"
     ]
    }
   ],
   "source": [
    "for key in {\"name\":\"jimmy\",\"price\":25}.keys():\n",
    "    print(key)\n",
    "print(\"================================\")\n",
    "for value in {\"name\":\"jimmy\",\"price\":25}.values():\n",
    "    print(value)\n",
    "print(\"================================\")\n",
    "\n",
    "for key,value in {\"name\":\"jimmy\",\"price\":25}.items():\n",
    "    print(key,value)\n"
   ]
  },
  {
   "cell_type": "code",
   "execution_count": 55,
   "metadata": {},
   "outputs": [
    {
     "data": {
      "text/plain": [
       "{'name': 'dsd', 'age': 40, 'dds': 55}"
      ]
     },
     "execution_count": 55,
     "metadata": {},
     "output_type": "execute_result"
    }
   ],
   "source": [
    "set1={1,2,3,1,1,2,2,5}\n",
    "mydic={\"name\":\"hello\",\"name\":\"dsd\",\"age\":25,\"age\":40,\"dds\":55}\n",
    "list(set1)\n",
    "mydic"
   ]
  },
  {
   "cell_type": "code",
   "execution_count": 77,
   "metadata": {},
   "outputs": [
    {
     "name": "stdout",
     "output_type": "stream",
     "text": [
      "本期大樂透電腦選號號碼如下:\n",
      "7 29 35 43 45 49 42 \n",
      "特別號: 42\n"
     ]
    }
   ],
   "source": [
    "import random\n",
    "set1 = set()\n",
    "SpecialNum=0\n",
    "mysetlist=[]\n",
    "while len(set1)<7:\n",
    "    myrandNum=random.randint(1,49)\n",
    "    set1.add(myrandNum)\n",
    "    if len(set1)==7:\n",
    "        SpecialNum=myrandNum\n",
    "        set1.remove(SpecialNum)\n",
    "        mysetlist = sorted(set1)\n",
    "        break\n",
    "mysetlist.append(SpecialNum)\n",
    "print(\"本期大樂透電腦選號號碼如下:\")\n",
    "for num in mysetlist:\n",
    "    print(num,end=\" \")\n",
    "print() \n",
    "print(\"特別號:\",SpecialNum)"
   ]
  }
 ],
 "metadata": {
  "kernelspec": {
   "display_name": "base",
   "language": "python",
   "name": "python3"
  },
  "language_info": {
   "codemirror_mode": {
    "name": "ipython",
    "version": 3
   },
   "file_extension": ".py",
   "mimetype": "text/x-python",
   "name": "python",
   "nbconvert_exporter": "python",
   "pygments_lexer": "ipython3",
   "version": "3.12.2"
  }
 },
 "nbformat": 4,
 "nbformat_minor": 2
}
