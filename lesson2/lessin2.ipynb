{
 "cells": [
  {
   "cell_type": "code",
   "execution_count": 1,
   "metadata": {},
   "outputs": [
    {
     "name": "stdout",
     "output_type": "stream",
     "text": [
      "學生分數調整後:52.5\n"
     ]
    }
   ],
   "source": [
    "#學生總分為300\n",
    "#有些學生可以加分5%\n",
    "def scoresModify(is_add,scores):\n",
    "    if is_add=='y':\n",
    "        if 0<=scores<=300:\n",
    "            scores=scores*1.05\n",
    "        elif scores>300:\n",
    "            scores=300*1.05\n",
    "        else:\n",
    "            scores=0\n",
    "        return scores\n",
    "    elif is_add=='n':\n",
    "        if scores>300:\n",
    "            scores=300\n",
    "            return scores\n",
    "        else:\n",
    "            scores=0\n",
    "            return scores\n",
    "    else:\n",
    "        return False    \n",
    "\n",
    "\n",
    "while True:\n",
    "    try:\n",
    "        scores=int(input('請輸入學生分數(最高分300分):'))\n",
    "    except Exception:\n",
    "        print('輸入無效，請確保輸入的是數字!')\n",
    "        continue\n",
    "    else:\n",
    "        while True:\n",
    "            is_add=input(\"學生是否符合加分條件?(y/n)\")\n",
    "            myModifyScore=scoresModify(is_add,scores)\n",
    "            if not myModifyScore:\n",
    "                print(\"請輸入y/n\")\n",
    "            else:\n",
    "                break\n",
    "            # if is_add=='y':\n",
    "            #     if 0<=scores<=300:\n",
    "            #         scores=scores*1.05\n",
    "                    \n",
    "            #     elif scores>300:\n",
    "            #         scores=300*1.05 \n",
    "            #     else:\n",
    "            #         scores=0\n",
    "            #     break\n",
    "            # elif is_add=='n':\n",
    "            #     if 0<=scores<=300:\n",
    "            #         scores=scores\n",
    "            #     elif scores>300:\n",
    "            #         scores=300\n",
    "            #     else:\n",
    "            #         scores=0\n",
    "            #     break\n",
    "            # else:\n",
    "            #     print(\"請輸入y/n\")\n",
    "    \n",
    "    break\n",
    "    \n",
    "\n",
    "print(f\"學生分數調整後:{myModifyScore}\")"
   ]
  }
 ],
 "metadata": {
  "kernelspec": {
   "display_name": "base",
   "language": "python",
   "name": "python3"
  },
  "language_info": {
   "codemirror_mode": {
    "name": "ipython",
    "version": 3
   },
   "file_extension": ".py",
   "mimetype": "text/x-python",
   "name": "python",
   "nbconvert_exporter": "python",
   "pygments_lexer": "ipython3",
   "version": "3.12.3"
  }
 },
 "nbformat": 4,
 "nbformat_minor": 2
}
